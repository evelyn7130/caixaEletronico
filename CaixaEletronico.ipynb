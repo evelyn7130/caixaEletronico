{
  "cells": [
    {
      "cell_type": "markdown",
      "metadata": {
        "id": "view-in-github",
        "colab_type": "text"
      },
      "source": [
        "<a href=\"https://colab.research.google.com/github/evelyn7130/caixaEletronico/blob/featcaixa_eletronico/CaixaEletronico.ipynb\" target=\"_parent\"><img src=\"https://colab.research.google.com/assets/colab-badge.svg\" alt=\"Open In Colab\"/></a>"
      ]
    },
    {
      "cell_type": "code",
      "source": [
        "print(\"MENU:\")\n",
        "print(\"[1] = Depositar\")\n",
        "print(\"[2] = Sacar\")\n",
        "print(\"[3] = Sair\")\n",
        "\n",
        "saldo = 1000\n",
        "operacao = input(\"Escolha uma opção:\")\n",
        "\n",
        "if operacao == '1':\n",
        " deposito = float(input(\"Digite o valor que deseja depositar:\"))\n",
        " print(f\"Depósito realizado! Novo saldo: R$ {deposito + saldo}\")\n",
        "\n",
        "elif operacao == '2':\n",
        " saque = float(input(\"Digite o valor que deseja sacar:\"))\n",
        " print(f\"Saque realizado com sucesso! Novo saldo: R$ {saldo - saque}\")\n",
        "\n",
        "else:\n",
        "  print(\"Obrigado por usar nosso caixa eletrônico\")"
      ],
      "metadata": {
        "id": "Pcc6xAmFiX5q"
      },
      "execution_count": null,
      "outputs": []
    }
  ],
  "metadata": {
    "colab": {
      "provenance": [],
      "include_colab_link": true
    },
    "kernelspec": {
      "display_name": "Python 3",
      "name": "python3"
    }
  },
  "nbformat": 4,
  "nbformat_minor": 0
}